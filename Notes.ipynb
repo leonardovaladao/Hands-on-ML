{
 "cells": [
  {
   "cell_type": "markdown",
   "metadata": {},
   "source": [
    "**Supervised Learning:** When you feed the algorithm with labeled data, or the desired solution. Examples: k-Nearest Neighboors, Linear or Logistic Regression, Vector Machines, Decision Trees / Random Forests, Neural Networks. \\\n",
    "**Unsupervised Learning:** When you feed the algorithm with unlabeled data. The algorithm is going to learn to separate the data without any teacher. Examples: k-Means, Hierarchical Cluster. \\\n",
    "**Semi-supervised Learning:** If your data has some part missing labels, you can use this kind of algorithm to fill the data for you. First, it will use unsupervised learning to cluster similar data together. Then, it will fill the information of the missing data with the information of labeled data. \\\n",
    "**Reinforcement Learning:** A kind of algorithm that makes actions, and gets rewards or penalties depending on what it has done. This way, the algorithm will learn the best actions by reinforcement. \n",
    "\n",
    "**Batch Learning:** When the algorithm learn by all data provised, all at once. First you train it, then you launch it. If you want to train it again, you'll have to make a new version of it, then launch it. \\\n",
    "**Online Learning:** The algorithm will receive the data in packages, or mini-batches, and it can learn a few even on the run, after the launch. It is much faster to learn new data than batch learning.\n",
    "\n",
    "**Instance-based Learning:** An algorithm that flags new data as they arrive. This way, the algorithm will target each data-point individually, in each instance. \\\n",
    "**Model-based Learning:** An algorithm that makes a model about data, then uses this model to identify and predict new data."
   ]
  },
  {
   "cell_type": "markdown",
   "metadata": {},
   "source": [
    "_**\"Now comes the project prelaunch phase: you need to present your solution (highlighting\n",
    "what you have learned, what worked and what did not, what assumptions\n",
    "were made, and what your system’s limitations are), document everything, and create\n",
    "nice presentations with clear visualizations and easy-to-remember statements (e.g.,\n",
    "“the median income is the number one predictor of housing prices”).\"**_"
   ]
  }
 ],
 "metadata": {
  "kernelspec": {
   "display_name": "Python 3",
   "language": "python",
   "name": "python3"
  },
  "language_info": {
   "codemirror_mode": {
    "name": "ipython",
    "version": 3
   },
   "file_extension": ".py",
   "mimetype": "text/x-python",
   "name": "python",
   "nbconvert_exporter": "python",
   "pygments_lexer": "ipython3",
   "version": "3.7.4"
  }
 },
 "nbformat": 4,
 "nbformat_minor": 2
}
