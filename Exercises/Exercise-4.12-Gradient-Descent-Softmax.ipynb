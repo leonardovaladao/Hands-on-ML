{
 "cells": [
  {
   "cell_type": "markdown",
   "metadata": {},
   "source": [
    "**Implement Batch Gradient Descent with early stopping for Softmax Regression (without using Scikit-Learn).**"
   ]
  },
  {
   "cell_type": "code",
   "execution_count": 1,
   "metadata": {},
   "outputs": [],
   "source": [
    "# Import data\n",
    "from sklearn.datasets import load_iris\n",
    "\n",
    "X = load_iris().data\n",
    "y = load_iris().target"
   ]
  },
  {
   "cell_type": "code",
   "execution_count": 2,
   "metadata": {},
   "outputs": [],
   "source": [
    "class SoftmaxRegression():\n",
    "    def __init__(self):\n",
    "        pass\n",
    "    \n",
    "    # Calculate softmax punctuation\n",
    "    def softmax_pont(self, X, theta):\n",
    "        return X.dot(theta)\n",
    "\n",
    "    # Calculate softmax probability\n",
    "    def softmax_prob(self, s):\n",
    "        from numpy import exp, sum\n",
    "        e = exp(s)\n",
    "        esum = sum(e, axis=1, keepdims=True)\n",
    "        return e / esum\n",
    "    \n",
    "    # Returns an array where instance is 1 if class is k, 0 otherwise\n",
    "    def y_k_maker(self, y):\n",
    "        from numpy import unique, zeros, arange\n",
    "        n_classes = len(unique(y))\n",
    "        instances = len(y)\n",
    "        y_k = zeros((instances, n_classes))\n",
    "        y_k[arange(instances), y] = 1\n",
    "        return y_k\n",
    "    \n",
    "    # Calculate loss cost function for softmax regression\n",
    "    def loss_cost(self, y_k, p, epsilon):\n",
    "        from numpy import mean,sum, log\n",
    "        l = -mean(sum(y_k)*log(p+epsilon), axis=1)\n",
    "        return l\n",
    "    \n",
    "    # Calculate gradient for Gradient Descendant method\n",
    "    def gradient(self, m, X, err):\n",
    "        return 1/m * X.T.dot(err)\n",
    "    \n",
    "    # Use Gradient Descendent to calculate good parameters for theta\n",
    "    def fit(self, X, y, eta=0.1, n_iterations=10**5, m=len(X), epsilon=10**-7):\n",
    "        import numpy as np\n",
    "        n_params = len(X[0])\n",
    "        n_classes = len(np.unique(y))\n",
    "        X_with_bias = np.c_[np.ones([len(X), 1]), X]\n",
    "        \n",
    "        # Gradient Descendant have random initialization of theta\n",
    "        theta = np.random.randn(n_params, n_classes)\n",
    "        \n",
    "        y_k = self.y_k_maker(y)\n",
    "        for iteration in range(n_iterations):\n",
    "            s = self.softmax_pont(X, theta)\n",
    "            p = self.softmax_prob(s)\n",
    "            loss = self.loss_cost(y_k, p, epsilon)\n",
    "            err = p - y_k\n",
    "            grad = self.gradient(m, X, err)\n",
    "            theta = theta - eta*grad\n",
    "            for i in grad:\n",
    "                for j in i:\n",
    "                    if j<=epsilon:\n",
    "                        break\n",
    "                        \n",
    "        self.theta = theta\n",
    "    \n",
    "    # Return prediction\n",
    "    def predict(self, X):\n",
    "        from numpy import argmax\n",
    "        s = self.softmax_pont(X,self.theta)\n",
    "        p = self.softmax_prob(s)\n",
    "        y_pred = argmax(p, axis=1)\n",
    "        return y_pred"
   ]
  },
  {
   "cell_type": "code",
   "execution_count": 3,
   "metadata": {},
   "outputs": [],
   "source": [
    "# Fit parameters and make prediction\n",
    "sr = SoftmaxRegression()\n",
    "sr.fit(X,y)\n",
    "y_pred = sr.predict(X)"
   ]
  },
  {
   "cell_type": "code",
   "execution_count": 4,
   "metadata": {},
   "outputs": [
    {
     "data": {
      "text/plain": [
       "0.9666666666666667"
      ]
     },
     "execution_count": 4,
     "metadata": {},
     "output_type": "execute_result"
    }
   ],
   "source": [
    "# See percentage of correct predictions\n",
    "from numpy import mean\n",
    "\n",
    "score = mean(y_pred==y)\n",
    "score"
   ]
  }
 ],
 "metadata": {
  "kernelspec": {
   "display_name": "Python 3",
   "language": "python",
   "name": "python3"
  },
  "language_info": {
   "codemirror_mode": {
    "name": "ipython",
    "version": 3
   },
   "file_extension": ".py",
   "mimetype": "text/x-python",
   "name": "python",
   "nbconvert_exporter": "python",
   "pygments_lexer": "ipython3",
   "version": "3.7.4"
  }
 },
 "nbformat": 4,
 "nbformat_minor": 2
}
