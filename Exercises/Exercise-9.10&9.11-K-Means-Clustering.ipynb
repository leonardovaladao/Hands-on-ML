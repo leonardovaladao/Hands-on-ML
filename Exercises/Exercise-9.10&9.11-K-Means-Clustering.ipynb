{
  "nbformat": 4,
  "nbformat_minor": 0,
  "metadata": {
    "colab": {
      "name": "Ex.9-10,9-11.ipynb",
      "provenance": [],
      "collapsed_sections": []
    },
    "kernelspec": {
      "name": "python3",
      "display_name": "Python 3"
    },
    "language_info": {
      "name": "python"
    }
  },
  "cells": [
    {
      "cell_type": "markdown",
      "source": [
        "# Exercise 9.10"
      ],
      "metadata": {
        "id": "a7TZBaD4DtuR"
      }
    },
    {
      "cell_type": "markdown",
      "source": [
        "The classic Olivetti faces dataset contains 400 grayscale 64 × 64–pixel images of faces. Each image is flattened to a 1D vector of size 4,096. 40 different people were photographed (10 times each), and the usual task is to train a model that can predict which person is represented in each picture. <br> \n",
        "- [X] Load the dataset using the sklearn.datasets.fetch_olivetti_faces() function. \n",
        "- [X] Then split it into a training set, a validation set, and a test set (note that the dataset is already scaled between 0 and 1). Since the dataset is quite small, you probably want to use stratified sampling to ensure that there are the same number of images per person in each set. \n",
        "- [X] Next, cluster the images using K-Means, and ensure that you have a good number of clusters (using one of the techniques discussed in this chapter). \n",
        "- [X] Visualize the clusters: do you see similar faces in each cluster?"
      ],
      "metadata": {
        "id": "-r8Y5bcwNLap"
      }
    },
    {
      "cell_type": "markdown",
      "source": [
        "## Load data"
      ],
      "metadata": {
        "id": "eN0UwlVAOzWG"
      }
    },
    {
      "cell_type": "code",
      "execution_count": 1,
      "metadata": {
        "id": "3ryjr7N1MIq5",
        "colab": {
          "base_uri": "https://localhost:8080/"
        },
        "outputId": "b27b4316-7733-49f2-b790-0ac02076f60d"
      },
      "outputs": [
        {
          "output_type": "stream",
          "name": "stdout",
          "text": [
            "downloading Olivetti faces from https://ndownloader.figshare.com/files/5976027 to /root/scikit_learn_data\n"
          ]
        }
      ],
      "source": [
        "from sklearn.datasets import fetch_olivetti_faces\n",
        "fof = fetch_olivetti_faces()"
      ]
    },
    {
      "cell_type": "code",
      "source": [
        "print(fof[\"DESCR\"])"
      ],
      "metadata": {
        "colab": {
          "base_uri": "https://localhost:8080/"
        },
        "id": "w3H9BPbHVOgX",
        "outputId": "90b7dd10-8bbf-4503-cc47-35ebf645b9c5"
      },
      "execution_count": 2,
      "outputs": [
        {
          "output_type": "stream",
          "name": "stdout",
          "text": [
            ".. _olivetti_faces_dataset:\n",
            "\n",
            "The Olivetti faces dataset\n",
            "--------------------------\n",
            "\n",
            "`This dataset contains a set of face images`_ taken between April 1992 and \n",
            "April 1994 at AT&T Laboratories Cambridge. The\n",
            ":func:`sklearn.datasets.fetch_olivetti_faces` function is the data\n",
            "fetching / caching function that downloads the data\n",
            "archive from AT&T.\n",
            "\n",
            ".. _This dataset contains a set of face images: http://www.cl.cam.ac.uk/research/dtg/attarchive/facedatabase.html\n",
            "\n",
            "As described on the original website:\n",
            "\n",
            "    There are ten different images of each of 40 distinct subjects. For some\n",
            "    subjects, the images were taken at different times, varying the lighting,\n",
            "    facial expressions (open / closed eyes, smiling / not smiling) and facial\n",
            "    details (glasses / no glasses). All the images were taken against a dark\n",
            "    homogeneous background with the subjects in an upright, frontal position \n",
            "    (with tolerance for some side movement).\n",
            "\n",
            "**Data Set Characteristics:**\n",
            "\n",
            "    =================   =====================\n",
            "    Classes                                40\n",
            "    Samples total                         400\n",
            "    Dimensionality                       4096\n",
            "    Features            real, between 0 and 1\n",
            "    =================   =====================\n",
            "\n",
            "The image is quantized to 256 grey levels and stored as unsigned 8-bit \n",
            "integers; the loader will convert these to floating point values on the \n",
            "interval [0, 1], which are easier to work with for many algorithms.\n",
            "\n",
            "The \"target\" for this database is an integer from 0 to 39 indicating the\n",
            "identity of the person pictured; however, with only 10 examples per class, this\n",
            "relatively small dataset is more interesting from an unsupervised or\n",
            "semi-supervised perspective.\n",
            "\n",
            "The original dataset consisted of 92 x 112, while the version available here\n",
            "consists of 64x64 images.\n",
            "\n",
            "When using these images, please give credit to AT&T Laboratories Cambridge.\n",
            "\n"
          ]
        }
      ]
    },
    {
      "cell_type": "code",
      "source": [
        "data = fof[\"data\"]\n",
        "\n",
        "print(\"Size of data:\", len(data))\n",
        "print(\"Size of instances:\", len(data[0]))"
      ],
      "metadata": {
        "colab": {
          "base_uri": "https://localhost:8080/"
        },
        "id": "Lccya636VXfo",
        "outputId": "cb2ee68c-d693-4eb9-97c5-6756c4e092e8"
      },
      "execution_count": 3,
      "outputs": [
        {
          "output_type": "stream",
          "name": "stdout",
          "text": [
            "Size of data: 400\n",
            "Size of instances: 4096\n"
          ]
        }
      ]
    },
    {
      "cell_type": "markdown",
      "source": [
        "Let's take a look at the images themselves:"
      ],
      "metadata": {
        "id": "8FeWehnoZU11"
      }
    },
    {
      "cell_type": "code",
      "source": [
        "from numpy import random\n",
        "import matplotlib.pyplot as plt\n",
        "\n",
        "def see_faces(img_dataset, num_faces=3):\n",
        "  # Reshape 4096 image to 64x64 data\n",
        "  imgs_idx = random.randint(len(img_dataset), size=num_faces)\n",
        "  imgs = [img.reshape(64,64) for img in img_dataset[imgs_idx]]\n",
        "\n",
        "  # Plot image\n",
        "  import matplotlib\n",
        "  fig, axs = plt.subplots(1, num_faces, figsize=(9, num_faces), sharey=True)\n",
        "  for img, i in zip(imgs, range(0,num_faces)):\n",
        "    axs[i].imshow(img, cmap='Greys_r', interpolation=\"nearest\")\n",
        "    axs[i].axis(\"off\")\n",
        "\n",
        "see_faces(data)"
      ],
      "metadata": {
        "colab": {
          "base_uri": "https://localhost:8080/",
          "height": 179
        },
        "id": "2RoI9lbLVlK8",
        "outputId": "10eb7cd2-f0dd-4137-d0af-607370b9f343"
      },
      "execution_count": 4,
      "outputs": [
        {
          "output_type": "display_data",
          "data": {
            "text/plain": [
              "<Figure size 648x216 with 3 Axes>"
            ],
            "image/png": "[encoded data removed]"
          },
          "metadata": {
            "needs_background": "light"
          }
        }
      ]
    },
    {
      "cell_type": "markdown",
      "source": [
        "## Split dataset into training set, validation set, and test set"
      ],
      "metadata": {
        "id": "ZM0xycYBZrAN"
      }
    },
    {
      "cell_type": "code",
      "source": [
        "X = data\n",
        "y = fof[\"target\"]"
      ],
      "metadata": {
        "id": "lZqjtw1RZsqN"
      },
      "execution_count": 5,
      "outputs": []
    },
    {
      "cell_type": "code",
      "source": [
        "from sklearn.model_selection import StratifiedShuffleSplit\n",
        "\n",
        "sss = StratifiedShuffleSplit(n_splits = 1, test_size=40)\n",
        "train_val_idx, test_idx = next(sss.split(X, y))\n",
        "X_train_val = X[train_val_idx]\n",
        "y_train_val = y[train_val_idx]\n",
        "X_test = X[test_idx]\n",
        "y_test = y[test_idx]\n",
        "\n",
        "sss = StratifiedShuffleSplit(n_splits=1, test_size=80)\n",
        "train_idx, val_idx = next(sss.split(X_train_val, y_train_val))\n",
        "X_train = X_train_val[train_idx]\n",
        "y_train = y_train_val[train_idx]\n",
        "X_val = X_train_val[val_idx]\n",
        "y_val = y_train_val[val_idx]"
      ],
      "metadata": {
        "id": "Knvg7I4Nacdc"
      },
      "execution_count": 6,
      "outputs": []
    },
    {
      "cell_type": "code",
      "source": [
        "len(X_train)+len(X_val)+len(X_test)==400"
      ],
      "metadata": {
        "colab": {
          "base_uri": "https://localhost:8080/"
        },
        "id": "xzs1dd7qbRPm",
        "outputId": "529027da-f34e-45a2-9800-cb885bd9bb44"
      },
      "execution_count": 7,
      "outputs": [
        {
          "output_type": "execute_result",
          "data": {
            "text/plain": [
              "True"
            ]
          },
          "metadata": {},
          "execution_count": 7
        }
      ]
    },
    {
      "cell_type": "markdown",
      "source": [
        "## Clustering"
      ],
      "metadata": {
        "id": "z_YgZdFSb9Uo"
      }
    },
    {
      "cell_type": "code",
      "source": [
        "from sklearn.cluster import KMeans"
      ],
      "metadata": {
        "id": "m7YtMvIUb7yc"
      },
      "execution_count": 8,
      "outputs": []
    },
    {
      "cell_type": "markdown",
      "source": [
        "Method chosen to find the number of clusters: The elbow technique using SSE (inertia)."
      ],
      "metadata": {
        "id": "VRBL7ZiHcoWH"
      }
    },
    {
      "cell_type": "code",
      "source": [
        "from numpy import arange\n",
        "sse = {}\n",
        "for k in arange(5, 150, 5):\n",
        "  kmeans = KMeans(n_clusters=k, max_iter=100).fit(X_train)\n",
        "  sse[k]=kmeans.inertia_"
      ],
      "metadata": {
        "id": "caCPoegbci9I"
      },
      "execution_count": 9,
      "outputs": []
    },
    {
      "cell_type": "code",
      "source": [
        "plt.plot(list(sse.keys()), list(sse.values()))\n",
        "plt.xlabel(\"k\")\n",
        "plt.ylabel(\"inertia\")\n",
        "plt.title(\"Elbow technique for the Olivetti Dataset\")\n",
        "plt.show()"
      ],
      "metadata": {
        "colab": {
          "base_uri": "https://localhost:8080/",
          "height": 295
        },
        "id": "BbkMNdofdGSa",
        "outputId": "1e9dca7b-1205-491b-eab4-0ef3e3316106"
      },
      "execution_count": 10,
      "outputs": [
        {
          "output_type": "display_data",
          "data": {
            "text/plain": [
              "<Figure size 432x288 with 1 Axes>"
            ],
            "image/png": "[encoded data removed]"
          },
          "metadata": {
            "needs_background": "light"
          }
        }
      ]
    },
    {
      "cell_type": "markdown",
      "source": [
        "This technique wasn't enough to determine k. Let's use alternate methods."
      ],
      "metadata": {
        "id": "c1_W4shafpg1"
      }
    },
    {
      "cell_type": "markdown",
      "source": [
        "Let's try the silhouette score."
      ],
      "metadata": {
        "id": "pUFRYQxtftAO"
      }
    },
    {
      "cell_type": "code",
      "source": [
        "from sklearn.metrics import silhouette_score\n",
        "\n",
        "ss = {}\n",
        "for k in arange(5, 150, 5):\n",
        "  kmeans = KMeans(n_clusters=k, max_iter=100).fit(X_train)\n",
        "  ss[k]=silhouette_score(X_train, kmeans.labels_)"
      ],
      "metadata": {
        "id": "4iIKHrZXf2Gv"
      },
      "execution_count": 11,
      "outputs": []
    },
    {
      "cell_type": "code",
      "source": [
        "plt.plot(list(ss.keys()), list(ss.values()))\n",
        "plt.xlabel(\"k\")\n",
        "plt.ylabel(\"silhouette score\")\n",
        "plt.title(\"Silhouette technique for the Olivetti Dataset\")\n",
        "plt.grid()\n",
        "plt.show()"
      ],
      "metadata": {
        "colab": {
          "base_uri": "https://localhost:8080/",
          "height": 295
        },
        "id": "cCFTcKmugRy7",
        "outputId": "17ad2a1b-3379-4b2a-f84a-dceae85aa3a4"
      },
      "execution_count": 12,
      "outputs": [
        {
          "output_type": "display_data",
          "data": {
            "text/plain": [
              "<Figure size 432x288 with 1 Axes>"
            ],
            "image/png": "[encoded data removed]"
          },
          "metadata": {
            "needs_background": "light"
          }
        }
      ]
    },
    {
      "cell_type": "markdown",
      "source": [
        "K chosen: 120"
      ],
      "metadata": {
        "id": "c_PN0ZuJdTSN"
      }
    },
    {
      "cell_type": "code",
      "source": [
        "# Train model\n",
        "kmeans = KMeans(n_clusters=120, max_iter=100).fit(X_train)"
      ],
      "metadata": {
        "id": "vfxWw0pOdRcx"
      },
      "execution_count": 13,
      "outputs": []
    },
    {
      "cell_type": "markdown",
      "source": [
        "## Visualize the clusters"
      ],
      "metadata": {
        "id": "nk1PPPuHhkBW"
      }
    },
    {
      "cell_type": "code",
      "source": [
        "cluster_id = random.randint(120)\n",
        "in_cluster = kmeans.labels_==cluster_id\n",
        "assert sum(in_cluster)>1, \"Number of faces should be greater than 1.\"\n",
        "print(\"Number of faces in this cluster:\", sum(in_cluster))\n",
        "faces = X_train[in_cluster]\n",
        "see_faces(faces, sum(in_cluster))"
      ],
      "metadata": {
        "colab": {
          "base_uri": "https://localhost:8080/",
          "height": 196
        },
        "id": "J9fgjKekiBIu",
        "outputId": "e45ae24c-bd11-4e01-c8fc-1fc4d08d714d"
      },
      "execution_count": 23,
      "outputs": [
        {
          "output_type": "stream",
          "name": "stdout",
          "text": [
            "Number of faces in this cluster: 3\n"
          ]
        },
        {
          "output_type": "display_data",
          "data": {
            "text/plain": [
              "<Figure size 648x216 with 3 Axes>"
            ],
            "image/png": "[encoded data removed]"
          },
          "metadata": {
            "needs_background": "light"
          }
        }
      ]
    },
    {
      "cell_type": "markdown",
      "source": [
        "Even though some faces appears to be from the same person, the number k chosen shows that the model is clustering much more groups than it should. A broader look at the cluster will also show that many faces are uncorrectly assigned in clusters they (obviously, for a human) don't belong."
      ],
      "metadata": {
        "id": "3MYfPmKLZp89"
      }
    },
    {
      "cell_type": "markdown",
      "source": [
        "# Exercise 9.11"
      ],
      "metadata": {
        "id": "JP_TJdawDxLB"
      }
    },
    {
      "cell_type": "markdown",
      "source": [
        "Continuing with the Olivetti faces dataset, \n",
        "- [X] Train a classifier to predict which person is represented in each picture, and evaluate it on the validation set. \n",
        "- [ ] Next, use K-Means as a dimensionality reduction tool, and train a classifier on the reduced set. Search for the number of clusters that allows the classifier to get the best performance: what performance can you reach? \n",
        "- [ ] What if you append the features from the reduced set to the original features (again, searching for the best number of clusters)?"
      ],
      "metadata": {
        "id": "9u0IDPnIDyct"
      }
    },
    {
      "cell_type": "markdown",
      "source": [
        "## Train classifier"
      ],
      "metadata": {
        "id": "TkUMD66oEf2n"
      }
    },
    {
      "cell_type": "code",
      "source": [
        "from sklearn.ensemble import RandomForestClassifier\n",
        "\n",
        "rfc = RandomForestClassifier(n_estimators=120)\n",
        "rfc.fit(X_train, y_train)\n",
        "rfc.score(X_val, y_val)"
      ],
      "metadata": {
        "colab": {
          "base_uri": "https://localhost:8080/"
        },
        "id": "QaoZpEgEEWXV",
        "outputId": "cf6e0df3-19e4-4b9e-dad1-91c19ee8499e"
      },
      "execution_count": 15,
      "outputs": [
        {
          "output_type": "execute_result",
          "data": {
            "text/plain": [
              "0.8875"
            ]
          },
          "metadata": {},
          "execution_count": 15
        }
      ]
    },
    {
      "cell_type": "markdown",
      "source": [
        "The raw classifier appears to be much more accurate than the clutering model, even though it's much more simple."
      ],
      "metadata": {
        "id": "OTJY2OnaFyMc"
      }
    },
    {
      "cell_type": "markdown",
      "source": [
        "## Use K-Means as dimensionality reduction method"
      ],
      "metadata": {
        "id": "Ey6oRMsCF4HW"
      }
    },
    {
      "cell_type": "code",
      "source": [
        "X_train_red = kmeans.transform(X_train)\n",
        "X_val_red = kmeans.transform(X_val)\n",
        "X_test_red = kmeans.transform(X_test)"
      ],
      "metadata": {
        "id": "j0U04BTMF3H4"
      },
      "execution_count": 16,
      "outputs": []
    },
    {
      "cell_type": "code",
      "source": [
        "rfc = RandomForestClassifier(n_estimators=120)\n",
        "rfc.fit(X_train_red, y_train)\n",
        "rfc.score(X_val_red, y_val)"
      ],
      "metadata": {
        "colab": {
          "base_uri": "https://localhost:8080/"
        },
        "id": "hWUsDrl6GdgM",
        "outputId": "97b38f58-f61b-475f-ffad-7523f058f09d"
      },
      "execution_count": 17,
      "outputs": [
        {
          "output_type": "execute_result",
          "data": {
            "text/plain": [
              "0.7625"
            ]
          },
          "metadata": {},
          "execution_count": 17
        }
      ]
    },
    {
      "cell_type": "code",
      "source": [
        "from sklearn.pipeline import Pipeline\n",
        "import tqdm\n",
        "\n",
        "perf_dict = {}\n",
        "k_list = arange(10,150,5)\n",
        "for k, t in zip(k_list, tqdm.tqdm(range(len(k_list)))):\n",
        "  pipeline = Pipeline([\n",
        "                       (\"kmeans\", KMeans(n_clusters=k)),\n",
        "                        (\"rfc\", RandomForestClassifier(n_estimators=120))\n",
        "  ])\n",
        "  pipeline.fit(X_train, y_train)\n",
        "  perf_dict[k] = pipeline.score(X_val, y_val)"
      ],
      "metadata": {
        "colab": {
          "base_uri": "https://localhost:8080/"
        },
        "id": "5QPvZI0qGq5o",
        "outputId": "45ab7b75-8ef4-41f5-c2d0-62f412ad0f53"
      },
      "execution_count": 18,
      "outputs": [
        {
          "output_type": "stream",
          "name": "stderr",
          "text": [
            " 96%|█████████▋| 27/28 [03:28<00:07,  7.73s/it]\n"
          ]
        }
      ]
    },
    {
      "cell_type": "code",
      "source": [
        "print(\"Best K:\", max(perf_dict, key=perf_dict.get))\n",
        "print(\"Best score:\", perf_dict[max(perf_dict, key=perf_dict.get)])"
      ],
      "metadata": {
        "colab": {
          "base_uri": "https://localhost:8080/"
        },
        "id": "U-VrzUH1I-tN",
        "outputId": "d6aaf32f-ed6a-468c-a93e-a5a9926d10b0"
      },
      "execution_count": 19,
      "outputs": [
        {
          "output_type": "stream",
          "name": "stdout",
          "text": [
            "Best K: 85\n",
            "Best score: 0.825\n"
          ]
        }
      ]
    },
    {
      "cell_type": "markdown",
      "source": [
        "Stil isn't better than using raw classifier..."
      ],
      "metadata": {
        "id": "wDK1RwUVLK62"
      }
    },
    {
      "cell_type": "markdown",
      "source": [
        "## Append reduced dataset as a feature to original dataset"
      ],
      "metadata": {
        "id": "OpZnj7_1LPBK"
      }
    },
    {
      "cell_type": "code",
      "source": [
        "from numpy import c_\n",
        "X_train_ext = c_[X_train, X_train_red]\n",
        "X_val_ext = c_[X_val, X_val_red]\n",
        "X_test_ext = c_[X_test, X_test_red]"
      ],
      "metadata": {
        "id": "so37WhDnLTUK"
      },
      "execution_count": 20,
      "outputs": []
    },
    {
      "cell_type": "code",
      "source": [
        "rfc = RandomForestClassifier(n_estimators=120)\n",
        "rfc.fit(X_train_ext, y_train)\n",
        "rfc.score(X_val_ext, y_val)"
      ],
      "metadata": {
        "colab": {
          "base_uri": "https://localhost:8080/"
        },
        "id": "f75R_qdbLnf7",
        "outputId": "6fe6988d-c194-445b-fd4d-285197a26638"
      },
      "execution_count": 21,
      "outputs": [
        {
          "output_type": "execute_result",
          "data": {
            "text/plain": [
              "0.8625"
            ]
          },
          "metadata": {},
          "execution_count": 21
        }
      ]
    },
    {
      "cell_type": "markdown",
      "source": [
        "## Conclusion"
      ],
      "metadata": {
        "id": "p0aWQFcYL_M0"
      }
    },
    {
      "cell_type": "markdown",
      "source": [
        "The K-Means algorithm didn't work well either in clustering the faces correctly (many people who do not look alike were clustered together), neither in reducing the dimensionality to help another algorithm to do it's job. \\\\\n",
        "The K-Means algorithm could be useful here maybe to label new instances of data. With enough faces, the algorithm could be taught to recognize the label and then automatically labeling new data as it arives. Even so, some errors would be made. \\\\\n",
        "Another algorithm shall be used to cluter/classify the faces in the images in the next exercises."
      ],
      "metadata": {
        "id": "ljXf2jEeMALu"
      }
    }
  ]
}