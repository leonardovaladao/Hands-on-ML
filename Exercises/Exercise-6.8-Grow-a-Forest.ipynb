{
  "nbformat": 4,
  "nbformat_minor": 0,
  "metadata": {
    "colab": {
      "name": "Ex.6-8",
      "provenance": []
    },
    "kernelspec": {
      "name": "python3",
      "display_name": "Python 3"
    },
    "language_info": {
      "name": "python"
    }
  },
  "cells": [
    {
      "cell_type": "markdown",
      "source": [
        "## 8. Grow a forest."
      ],
      "metadata": {
        "id": "kogbgcxMKK1_"
      }
    },
    {
      "cell_type": "markdown",
      "source": [
        "### a. Continuing the previous exercise, generate 1,000 subsets of the training set, each containing 100 instances selected randomly. Hint: you can use Scikit-Learn’s ShuffleSplit class for this."
      ],
      "metadata": {
        "id": "jUOaZ2qXKMjm"
      }
    },
    {
      "cell_type": "code",
      "execution_count": null,
      "metadata": {
        "id": "PE7Bls-MJulh"
      },
      "outputs": [],
      "source": [
        "from sklearn.datasets import make_moons\n",
        "from sklearn.model_selection import ShuffleSplit\n",
        "from sklearn.model_selection import train_test_split\n",
        "\n",
        "X, y = make_moons(n_samples=10000, noise=0.4, random_state=42)\n",
        "X_train, X_test, y_train, y_test = train_test_split(X, y, test_size=0.2, random_state=42)\n",
        "ss = ShuffleSplit(n_splits=1000, random_state=42)\n",
        "\n",
        "s = []\n",
        "\n",
        "for train_index, test_index in ss.split(X_train):\n",
        "  s.append((X_train[train_index], y_train[train_index]))"
      ]
    },
    {
      "cell_type": "markdown",
      "source": [
        "### b. Train one Decision Tree on each subset, using the best hyperparameter values found above. Evaluate these 1,000 Decision Trees on the test set. Since they were trained on smaller sets, these Decision Trees will likely perform worse than the first Decision Tree, achieving only about 80% accuracy."
      ],
      "metadata": {
        "id": "lwunrGFnLuYe"
      }
    },
    {
      "cell_type": "markdown",
      "source": [
        "Best hyperparameters: {'max_leaf_nodes': 17, 'min_samples_split': 2}"
      ],
      "metadata": {
        "id": "6fEs91WZL4wu"
      }
    },
    {
      "cell_type": "code",
      "source": [
        "from sklearn.tree import DecisionTreeClassifier\n",
        "from sklearn.metrics import accuracy_score\n",
        "\n",
        "dtcs = [DecisionTreeClassifier(max_leaf_nodes=17, min_samples_split=2) for n in range(1000)]\n",
        "\n",
        "accuracy_list = []\n",
        "\n",
        "for tree, (X, y) in zip(dtcs, s):\n",
        "  tree.fit(X, y)\n",
        "  y_pred = tree.predict(X_test)\n",
        "  accuracy_list.append(accuracy_score(y_test, y_pred))"
      ],
      "metadata": {
        "id": "WXqErqXiL2ad"
      },
      "execution_count": null,
      "outputs": []
    },
    {
      "cell_type": "code",
      "source": [
        "from numpy import mean\n",
        "mean(accuracy_list)"
      ],
      "metadata": {
        "colab": {
          "base_uri": "https://localhost:8080/"
        },
        "id": "X6bV28q3O23N",
        "outputId": "a5a579ea-e8eb-42ab-92ec-1eec50c2e53e"
      },
      "execution_count": null,
      "outputs": [
        {
          "output_type": "execute_result",
          "data": {
            "text/plain": [
              "0.86509"
            ]
          },
          "metadata": {},
          "execution_count": 3
        }
      ]
    },
    {
      "cell_type": "markdown",
      "source": [
        "86,51%? Way better than the exercise predicted."
      ],
      "metadata": {
        "id": "ivZPtneuPFPw"
      }
    },
    {
      "cell_type": "markdown",
      "source": [
        "### c. Now comes the magic. For each test set instance, generate the predictions of the 1,000 Decision Trees, and keep only the most frequent prediction (you can use SciPy’s mode() function for this). This gives you majority-vote predictions over the test set."
      ],
      "metadata": {
        "id": "jxWEnC8aPWyc"
      }
    },
    {
      "cell_type": "code",
      "source": [
        "import numpy as np\n",
        "\n",
        "Y_pred = np.empty([1000, len(X_test)], dtype=np.uint8)\n",
        "\n",
        "for tree_index, tree in enumerate(dtcs):\n",
        "    Y_pred[tree_index] = tree.predict(X_test)"
      ],
      "metadata": {
        "id": "xanWJOcePcHG"
      },
      "execution_count": null,
      "outputs": []
    },
    {
      "cell_type": "code",
      "source": [
        "from scipy.stats import mode\n",
        "\n",
        "y_pred_majority_votes, n_votes = mode(Y_pred, axis=0)"
      ],
      "metadata": {
        "id": "G6OOrC8LPz-F"
      },
      "execution_count": null,
      "outputs": []
    },
    {
      "cell_type": "markdown",
      "source": [
        "### d. Evaluate these predictions on the test set: you should obtain a slightly higher accuracy than your first model (about 0.5 to 1.5% higher). Congratulations, you have trained a Random Forest classifier!"
      ],
      "metadata": {
        "id": "e4goZ5jXP6aV"
      }
    },
    {
      "cell_type": "code",
      "source": [
        "accuracy_score(y_test, y_pred_majority_votes.reshape([-1]))"
      ],
      "metadata": {
        "colab": {
          "base_uri": "https://localhost:8080/"
        },
        "id": "inm_NtouP_9I",
        "outputId": "57331c97-0ef5-4ddf-bcd9-e68b22595055"
      },
      "execution_count": null,
      "outputs": [
        {
          "output_type": "execute_result",
          "data": {
            "text/plain": [
              "0.8685"
            ]
          },
          "metadata": {},
          "execution_count": 6
        }
      ]
    }
  ]
}