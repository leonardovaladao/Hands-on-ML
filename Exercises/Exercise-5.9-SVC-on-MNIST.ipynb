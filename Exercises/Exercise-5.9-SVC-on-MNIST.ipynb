{
  "nbformat": 4,
  "nbformat_minor": 0,
  "metadata": {
    "colab": {
      "name": "Ex.5-9",
      "provenance": []
    },
    "kernelspec": {
      "name": "python3",
      "display_name": "Python 3"
    },
    "language_info": {
      "name": "python"
    }
  },
  "cells": [
    {
      "cell_type": "markdown",
      "source": [
        "**Exercise: train an SVM classifier on the MNIST dataset. Since SVM classifiers are binary classifiers, you will need to use one-versus-all to classify all 10 digits. You may want to tune the hyperparameters using small validation sets to speed up the process. What accuracy can you reach?**"
      ],
      "metadata": {
        "id": "jE3FtuX72Rxj"
      }
    },
    {
      "cell_type": "markdown",
      "source": [
        "Goal: Reach 97% of accuracy on test set (accuracy reached by the author of the book in this exercise, we will use this as a benchmark)."
      ],
      "metadata": {
        "id": "8rbd1cTg3PVQ"
      }
    },
    {
      "cell_type": "markdown",
      "source": [
        "Note: SVM automatically uses One-v-All, no need to manually do that."
      ],
      "metadata": {
        "id": "k1O8i0ft74Oe"
      }
    },
    {
      "cell_type": "markdown",
      "source": [
        "### Get and parse data"
      ],
      "metadata": {
        "id": "J89A1Hp8J8yy"
      }
    },
    {
      "cell_type": "code",
      "execution_count": 1,
      "metadata": {
        "id": "auBTUIBRyZCI"
      },
      "outputs": [],
      "source": [
        "from sklearn.datasets import fetch_openml\n",
        "mnist = fetch_openml('mnist_784', version= 1, as_frame= False)\n"
      ]
    },
    {
      "cell_type": "code",
      "source": [
        "import numpy as np\n",
        "\n",
        "X = mnist[\"data\"]\n",
        "y = mnist[\"target\"].astype(np.uint8)\n",
        "\n",
        "X_train = X[:60000]\n",
        "y_train = y[:60000]\n",
        "X_test = X[60000:]\n",
        "y_test = y[60000:]"
      ],
      "metadata": {
        "id": "bIvTI3iZymrp"
      },
      "execution_count": 2,
      "outputs": []
    },
    {
      "cell_type": "code",
      "source": [
        "np.unique(y_train)"
      ],
      "metadata": {
        "colab": {
          "base_uri": "https://localhost:8080/"
        },
        "id": "j9LnSyMZ15-R",
        "outputId": "3c85ab94-263a-4b12-d392-be7de9c545d8"
      },
      "execution_count": 3,
      "outputs": [
        {
          "output_type": "execute_result",
          "data": {
            "text/plain": [
              "array([0, 1, 2, 3, 4, 5, 6, 7, 8, 9], dtype=uint8)"
            ]
          },
          "metadata": {},
          "execution_count": 3
        }
      ]
    },
    {
      "cell_type": "markdown",
      "source": [
        "### Train Support Vector Machine"
      ],
      "metadata": {
        "id": "s0SeGQvIKAht"
      }
    },
    {
      "cell_type": "code",
      "source": [
        "from sklearn.svm import LinearSVC\n",
        "\n",
        "lin_svc = LinearSVC()\n",
        "\n",
        "lin_svc.fit(X_train, y_train)"
      ],
      "metadata": {
        "colab": {
          "base_uri": "https://localhost:8080/"
        },
        "id": "4zRWqK2S2UYL",
        "outputId": "80a98a4e-a2b1-4186-fa51-8b94e3cfc3d1"
      },
      "execution_count": 4,
      "outputs": [
        {
          "output_type": "stream",
          "name": "stderr",
          "text": [
            "/usr/local/lib/python3.7/dist-packages/sklearn/svm/_base.py:1208: ConvergenceWarning: Liblinear failed to converge, increase the number of iterations.\n",
            "  ConvergenceWarning,\n"
          ]
        },
        {
          "output_type": "execute_result",
          "data": {
            "text/plain": [
              "LinearSVC()"
            ]
          },
          "metadata": {},
          "execution_count": 4
        }
      ]
    },
    {
      "cell_type": "markdown",
      "source": [
        "Let's test the data. Here we will test against the train data itself, just to get a grasp of how the model works out in a cycle of data."
      ],
      "metadata": {
        "id": "Arlwg5qLKFfY"
      }
    },
    {
      "cell_type": "code",
      "source": [
        "y_pred_1 = lin_svc.predict(X_train)"
      ],
      "metadata": {
        "id": "k5iByTV93nDf"
      },
      "execution_count": 5,
      "outputs": []
    },
    {
      "cell_type": "code",
      "source": [
        "from sklearn.metrics import accuracy_score\n",
        "\n",
        "accuracy_score(y_train, y_pred_1)"
      ],
      "metadata": {
        "colab": {
          "base_uri": "https://localhost:8080/"
        },
        "id": "WOII1GM65RDH",
        "outputId": "17661531-0eb3-432c-a3e0-9ddcac374b36"
      },
      "execution_count": 6,
      "outputs": [
        {
          "output_type": "execute_result",
          "data": {
            "text/plain": [
              "0.8748"
            ]
          },
          "metadata": {},
          "execution_count": 6
        }
      ]
    },
    {
      "cell_type": "markdown",
      "source": [
        "87% of accuracy on first test."
      ],
      "metadata": {
        "id": "mp6npjrW7z_0"
      }
    },
    {
      "cell_type": "markdown",
      "source": [
        "Now, try scaling the dataset, since the SVM is extremely sensitive to scaling."
      ],
      "metadata": {
        "id": "JAI8Cv6pKQXl"
      }
    },
    {
      "cell_type": "code",
      "source": [
        "# Try on scaled set\n",
        "from sklearn.preprocessing import StandardScaler\n",
        "\n",
        "scaler = StandardScaler()\n",
        "scaler.fit(X_train)\n",
        "X_train_scaled = scaler.transform(X_train)"
      ],
      "metadata": {
        "id": "xVLLdyw55hxt"
      },
      "execution_count": 7,
      "outputs": []
    },
    {
      "cell_type": "code",
      "source": [
        "lin_svc = LinearSVC()\n",
        "lin_svc.fit(X_train_scaled, y_train)"
      ],
      "metadata": {
        "colab": {
          "base_uri": "https://localhost:8080/"
        },
        "id": "nwiJJaou7-jf",
        "outputId": "adbaf178-7d5d-4349-eab6-0033d9282ba6"
      },
      "execution_count": 8,
      "outputs": [
        {
          "output_type": "stream",
          "name": "stderr",
          "text": [
            "/usr/local/lib/python3.7/dist-packages/sklearn/svm/_base.py:1208: ConvergenceWarning: Liblinear failed to converge, increase the number of iterations.\n",
            "  ConvergenceWarning,\n"
          ]
        },
        {
          "output_type": "execute_result",
          "data": {
            "text/plain": [
              "LinearSVC()"
            ]
          },
          "metadata": {},
          "execution_count": 8
        }
      ]
    },
    {
      "cell_type": "code",
      "source": [
        "y_pred_2 = lin_svc.predict(X_train_scaled)\n",
        "accuracy_score(y_train, y_pred_2)"
      ],
      "metadata": {
        "colab": {
          "base_uri": "https://localhost:8080/"
        },
        "id": "LUm9saUxAHZ1",
        "outputId": "4b2ea89b-9070-4ac7-9251-adb2dc11ebb5"
      },
      "execution_count": 9,
      "outputs": [
        {
          "output_type": "execute_result",
          "data": {
            "text/plain": [
              "0.9197333333333333"
            ]
          },
          "metadata": {},
          "execution_count": 9
        }
      ]
    },
    {
      "cell_type": "markdown",
      "source": [
        "92% accuracy, better but not good enough"
      ],
      "metadata": {
        "id": "mb0J83IqAOfk"
      }
    },
    {
      "cell_type": "markdown",
      "source": [
        "Now, try with SVC method."
      ],
      "metadata": {
        "id": "FcIHkkiYAckq"
      }
    },
    {
      "cell_type": "code",
      "source": [
        "from sklearn.svm import SVC\n",
        "svc = SVC()\n",
        "svc.fit(X_train_scaled, y_train)"
      ],
      "metadata": {
        "colab": {
          "base_uri": "https://localhost:8080/"
        },
        "id": "aoYNOntdAJxG",
        "outputId": "a911176e-aa07-44b7-97d8-519b0f29bdc6"
      },
      "execution_count": 10,
      "outputs": [
        {
          "output_type": "execute_result",
          "data": {
            "text/plain": [
              "SVC()"
            ]
          },
          "metadata": {},
          "execution_count": 10
        }
      ]
    },
    {
      "cell_type": "code",
      "source": [
        "y_pred_3 = svc.predict(X_train_scaled)\n",
        "accuracy_score(y_train, y_pred_3)"
      ],
      "metadata": {
        "colab": {
          "base_uri": "https://localhost:8080/"
        },
        "id": "nkykCiYMFAp7",
        "outputId": "346381b2-ffd2-4889-d083-d8d155f454ca"
      },
      "execution_count": 11,
      "outputs": [
        {
          "output_type": "execute_result",
          "data": {
            "text/plain": [
              "0.9866333333333334"
            ]
          },
          "metadata": {},
          "execution_count": 11
        }
      ]
    },
    {
      "cell_type": "markdown",
      "source": [
        "98% accuracy!!! Maybe it means we're getting overfit? But let's try further with this model."
      ],
      "metadata": {
        "id": "NHSGf3LaFF--"
      }
    },
    {
      "cell_type": "markdown",
      "source": [
        "### Tuning the parameters"
      ],
      "metadata": {
        "id": "lgFM9XK8Ka7b"
      }
    },
    {
      "cell_type": "code",
      "source": [
        "from sklearn.model_selection import GridSearchCV\n",
        "\n",
        "parameters = {'kernel':['linear', 'rbf'], 'C':[1, 10], 'gamma': [0.001, 0.1]}\n",
        "grid_search = GridSearchCV(svc, parameters, cv=3, scoring=\"accuracy\")"
      ],
      "metadata": {
        "id": "c6fpeH7pJhuY"
      },
      "execution_count": 23,
      "outputs": []
    },
    {
      "cell_type": "code",
      "source": [
        "grid_search.fit(X_train_scaled[:10000], y_train[:10000])"
      ],
      "metadata": {
        "colab": {
          "base_uri": "https://localhost:8080/"
        },
        "id": "N0gPPlyiJtza",
        "outputId": "59474eeb-d1d0-442b-cd99-53d0f6413807"
      },
      "execution_count": 24,
      "outputs": [
        {
          "output_type": "execute_result",
          "data": {
            "text/plain": [
              "GridSearchCV(cv=3, estimator=SVC(),\n",
              "             param_grid={'C': [1, 10], 'gamma': [0.001, 0.1],\n",
              "                         'kernel': ['linear', 'rbf']},\n",
              "             scoring='accuracy')"
            ]
          },
          "metadata": {},
          "execution_count": 24
        }
      ]
    },
    {
      "cell_type": "code",
      "source": [
        "grid_search.best_params_"
      ],
      "metadata": {
        "colab": {
          "base_uri": "https://localhost:8080/"
        },
        "id": "g6x9iAUALTS2",
        "outputId": "48b11ae9-655f-4fb5-db92-bb6adfca8be7"
      },
      "execution_count": 25,
      "outputs": [
        {
          "output_type": "execute_result",
          "data": {
            "text/plain": [
              "{'C': 10, 'gamma': 0.001, 'kernel': 'rbf'}"
            ]
          },
          "metadata": {},
          "execution_count": 25
        }
      ]
    },
    {
      "cell_type": "code",
      "source": [
        "svc = SVC(kernel=\"rbf\", gamma=0.001, C=10)\n",
        "svc.fit(X_train_scaled, y_train)"
      ],
      "metadata": {
        "colab": {
          "base_uri": "https://localhost:8080/"
        },
        "id": "xaV6Y1QPyv5w",
        "outputId": "a3e59d37-8b68-4561-f7a9-3fcc32977bfe"
      },
      "execution_count": 31,
      "outputs": [
        {
          "output_type": "execute_result",
          "data": {
            "text/plain": [
              "SVC(C=10, gamma=0.001)"
            ]
          },
          "metadata": {},
          "execution_count": 31
        }
      ]
    },
    {
      "cell_type": "code",
      "source": [
        "from sklearn.model_selection import cross_val_score\n",
        "cross_val_score(svc, X_train_scaled[:10000], y_train[:10000], \n",
        "                scoring=\"accuracy\", cv=3, verbose=2, n_jobs=-1)"
      ],
      "metadata": {
        "colab": {
          "base_uri": "https://localhost:8080/"
        },
        "id": "twhhx3XxFE5s",
        "outputId": "a9203404-2329-4e4a-d312-841e46a9f038"
      },
      "execution_count": 32,
      "outputs": [
        {
          "output_type": "stream",
          "name": "stderr",
          "text": [
            "[Parallel(n_jobs=-1)]: Using backend LokyBackend with 2 concurrent workers.\n",
            "[Parallel(n_jobs=-1)]: Done   3 out of   3 | elapsed:   41.9s finished\n"
          ]
        },
        {
          "output_type": "execute_result",
          "data": {
            "text/plain": [
              "array([0.94121176, 0.94449445, 0.93279328])"
            ]
          },
          "metadata": {},
          "execution_count": 32
        }
      ]
    },
    {
      "cell_type": "markdown",
      "source": [
        "It doesn't look bad. Let's test agains the test set."
      ],
      "metadata": {
        "id": "TOZaSep-2fPl"
      }
    },
    {
      "cell_type": "markdown",
      "source": [
        "### Final test on test set"
      ],
      "metadata": {
        "id": "4bQ6MtlE2jC7"
      }
    },
    {
      "cell_type": "code",
      "source": [
        "X_test_scaled = scaler.fit_transform(X_test)\n",
        "\n",
        "y_pred = svc.predict(X_test_scaled)\n",
        "\n",
        "accuracy_score(y_test, y_pred)"
      ],
      "metadata": {
        "colab": {
          "base_uri": "https://localhost:8080/"
        },
        "id": "ixXwBB2M07ZX",
        "outputId": "5deaec1e-d683-4355-a5dc-6d0fbf714243"
      },
      "execution_count": 34,
      "outputs": [
        {
          "output_type": "execute_result",
          "data": {
            "text/plain": [
              "0.9724"
            ]
          },
          "metadata": {},
          "execution_count": 34
        }
      ]
    },
    {
      "cell_type": "markdown",
      "source": [
        "97.24%, definetely not bad. One thing to notice is that of the values I gave for the grid search, it took the maximum value for C and lowest for gamma. Maybe even a greater value for C and a lesser value for gamma would give us more accuracy, but then we could risk overfit. 97% is enough for the sake of this exercise."
      ],
      "metadata": {
        "id": "DvHe_tPI1wc5"
      }
    }
  ]
}