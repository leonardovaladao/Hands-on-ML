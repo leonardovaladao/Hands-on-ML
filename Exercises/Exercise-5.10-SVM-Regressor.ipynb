{
  "nbformat": 4,
  "nbformat_minor": 0,
  "metadata": {
    "colab": {
      "name": "Ex.5-10.ipynb",
      "provenance": []
    },
    "kernelspec": {
      "name": "python3",
      "display_name": "Python 3"
    },
    "language_info": {
      "name": "python"
    }
  },
  "cells": [
    {
      "cell_type": "markdown",
      "source": [
        "Exercise: train an SVM regressor on the California housing dataset."
      ],
      "metadata": {
        "id": "P-7IUVhd0D_B"
      }
    },
    {
      "cell_type": "markdown",
      "source": [
        "### Load data"
      ],
      "metadata": {
        "id": "f2SRrfFcl5Pd"
      }
    },
    {
      "cell_type": "code",
      "execution_count": 1,
      "metadata": {
        "id": "IBdgymC8z8rx"
      },
      "outputs": [],
      "source": [
        "from sklearn.datasets import fetch_california_housing\n",
        "\n",
        "housing = fetch_california_housing()\n",
        "X = housing[\"data\"]\n",
        "y = housing[\"target\"]"
      ]
    },
    {
      "cell_type": "markdown",
      "source": [
        "Train / Test Split"
      ],
      "metadata": {
        "id": "83VcEnQvl7nq"
      }
    },
    {
      "cell_type": "code",
      "source": [
        "from sklearn.model_selection import train_test_split\n",
        "\n",
        "X_train, X_test, y_train, y_test = train_test_split(X, y, test_size=0.2)"
      ],
      "metadata": {
        "id": "2dzmwTlT0IWt"
      },
      "execution_count": 2,
      "outputs": []
    },
    {
      "cell_type": "markdown",
      "source": [
        "Scale data for SVM"
      ],
      "metadata": {
        "id": "oS7KHqzKl-i7"
      }
    },
    {
      "cell_type": "code",
      "source": [
        "from sklearn.preprocessing import StandardScaler\n",
        "\n",
        "scaler = StandardScaler()\n",
        "\n",
        "X_train_scaled = scaler.fit_transform(X_train)"
      ],
      "metadata": {
        "id": "VK8j0X4p0sLS"
      },
      "execution_count": 3,
      "outputs": []
    },
    {
      "cell_type": "markdown",
      "source": [
        "### Train first model"
      ],
      "metadata": {
        "id": "UZnyfd9rmBHo"
      }
    },
    {
      "cell_type": "markdown",
      "source": [
        "Train without tuning parameters."
      ],
      "metadata": {
        "id": "1vgCz8dGmCTf"
      }
    },
    {
      "cell_type": "code",
      "source": [
        "from sklearn.svm import SVR, LinearSVR\n",
        "\n",
        "svr = LinearSVR()\n",
        "svr.fit(X_train_scaled, y_train)"
      ],
      "metadata": {
        "colab": {
          "base_uri": "https://localhost:8080/"
        },
        "id": "wBZVmEsU0QzO",
        "outputId": "4dc5d0a9-14aa-4f52-f823-2e626e18548a"
      },
      "execution_count": 4,
      "outputs": [
        {
          "output_type": "stream",
          "name": "stderr",
          "text": [
            "/usr/local/lib/python3.7/dist-packages/sklearn/svm/_base.py:1208: ConvergenceWarning: Liblinear failed to converge, increase the number of iterations.\n",
            "  ConvergenceWarning,\n"
          ]
        },
        {
          "output_type": "execute_result",
          "data": {
            "text/plain": [
              "LinearSVR()"
            ]
          },
          "metadata": {},
          "execution_count": 4
        }
      ]
    },
    {
      "cell_type": "code",
      "source": [
        "svr.get_params()"
      ],
      "metadata": {
        "colab": {
          "base_uri": "https://localhost:8080/"
        },
        "id": "lq1KGGKJ_7HX",
        "outputId": "9993c234-246c-4267-fd99-70d1be309f64"
      },
      "execution_count": 5,
      "outputs": [
        {
          "output_type": "execute_result",
          "data": {
            "text/plain": [
              "{'C': 1.0,\n",
              " 'dual': True,\n",
              " 'epsilon': 0.0,\n",
              " 'fit_intercept': True,\n",
              " 'intercept_scaling': 1.0,\n",
              " 'loss': 'epsilon_insensitive',\n",
              " 'max_iter': 1000,\n",
              " 'random_state': None,\n",
              " 'tol': 0.0001,\n",
              " 'verbose': 0}"
            ]
          },
          "metadata": {},
          "execution_count": 5
        }
      ]
    },
    {
      "cell_type": "markdown",
      "source": [
        "Evaluate model"
      ],
      "metadata": {
        "id": "oln4IbIunGdi"
      }
    },
    {
      "cell_type": "code",
      "source": [
        "from sklearn.metrics import mean_squared_error\n",
        "\n",
        "y_train_pred = svr.predict(X_train_scaled)\n",
        "\n",
        "mse = mean_squared_error(y_train, y_train_pred)\n",
        "mse"
      ],
      "metadata": {
        "colab": {
          "base_uri": "https://localhost:8080/"
        },
        "id": "Vl1MC8iF1MLu",
        "outputId": "7d759a67-bf2f-4050-92f9-762c34538dd3"
      },
      "execution_count": 6,
      "outputs": [
        {
          "output_type": "execute_result",
          "data": {
            "text/plain": [
              "0.7485175595906046"
            ]
          },
          "metadata": {},
          "execution_count": 6
        }
      ]
    },
    {
      "cell_type": "code",
      "source": [
        "from numpy import sqrt\n",
        "\n",
        "rmse = sqrt(mse)\n",
        "rmse"
      ],
      "metadata": {
        "colab": {
          "base_uri": "https://localhost:8080/"
        },
        "id": "OV4Her5o329H",
        "outputId": "80566578-4753-4326-819a-37bc60a01cc7"
      },
      "execution_count": 7,
      "outputs": [
        {
          "output_type": "execute_result",
          "data": {
            "text/plain": [
              "0.8651690930625091"
            ]
          },
          "metadata": {},
          "execution_count": 7
        }
      ]
    },
    {
      "cell_type": "markdown",
      "source": [
        "Not that bad. Let's see on the test set."
      ],
      "metadata": {
        "id": "zfsx4rP588cN"
      }
    },
    {
      "cell_type": "code",
      "source": [
        "X_test_scaled = scaler.transform(X_test)\n",
        "y_pred_test = svr.predict(X_test_scaled)\n",
        "sqrt(mean_squared_error(y_test, y_pred_test))"
      ],
      "metadata": {
        "colab": {
          "base_uri": "https://localhost:8080/"
        },
        "id": "TdkPgXZg8sY_",
        "outputId": "3f55a3cb-fcbd-470c-d661-3bc4541bac41"
      },
      "execution_count": 8,
      "outputs": [
        {
          "output_type": "execute_result",
          "data": {
            "text/plain": [
              "0.7707869323285762"
            ]
          },
          "metadata": {},
          "execution_count": 8
        }
      ]
    },
    {
      "cell_type": "markdown",
      "source": [
        "Roughly 1. Since the target unit is ten thousand dollars, the mean error will be roughly $10,000. Not great. Let's try to achieve half of that error."
      ],
      "metadata": {
        "id": "Gr45AwYM4UPK"
      }
    },
    {
      "cell_type": "markdown",
      "source": [
        "### Tune parameters in new model"
      ],
      "metadata": {
        "id": "IkEynlV-qtLk"
      }
    },
    {
      "cell_type": "code",
      "source": [
        "from sklearn.model_selection import GridSearchCV\n",
        "from numpy import linspace\n",
        "\n",
        "new_svr = SVR()\n",
        "\n",
        "parameters = {\"gamma\": linspace(0.001, 0.1, 4), \"C\": linspace(1, 10, 4)}\n",
        "gridsearch = GridSearchCV(new_svr, parameters, verbose=2, cv=3)"
      ],
      "metadata": {
        "id": "M_hKfoD44afS"
      },
      "execution_count": 9,
      "outputs": []
    },
    {
      "cell_type": "code",
      "source": [
        "gridsearch.fit(X_train_scaled, y_train)"
      ],
      "metadata": {
        "colab": {
          "base_uri": "https://localhost:8080/"
        },
        "id": "yWOixo35h7uL",
        "outputId": "9cf46aa0-1b2e-4c73-c0ec-e08354e5c404"
      },
      "execution_count": 10,
      "outputs": [
        {
          "output_type": "stream",
          "name": "stdout",
          "text": [
            "Fitting 3 folds for each of 16 candidates, totalling 48 fits\n",
            "[CV] END .................................C=1.0, gamma=0.001; total time=  15.8s\n",
            "[CV] END .................................C=1.0, gamma=0.001; total time=  17.2s\n",
            "[CV] END .................................C=1.0, gamma=0.001; total time=   9.9s\n",
            "[CV] END .................................C=1.0, gamma=0.034; total time=   9.6s\n",
            "[CV] END .................................C=1.0, gamma=0.034; total time=   9.6s\n",
            "[CV] END .................................C=1.0, gamma=0.034; total time=   9.6s\n",
            "[CV] END .................................C=1.0, gamma=0.067; total time=   9.6s\n",
            "[CV] END .................................C=1.0, gamma=0.067; total time=   9.5s\n",
            "[CV] END .................................C=1.0, gamma=0.067; total time=   9.6s\n",
            "[CV] END ...................................C=1.0, gamma=0.1; total time=   9.5s\n",
            "[CV] END ...................................C=1.0, gamma=0.1; total time=   9.5s\n",
            "[CV] END ...................................C=1.0, gamma=0.1; total time=   9.5s\n",
            "[CV] END .................................C=4.0, gamma=0.001; total time=  11.2s\n",
            "[CV] END .................................C=4.0, gamma=0.001; total time=   9.8s\n",
            "[CV] END .................................C=4.0, gamma=0.001; total time=   9.7s\n",
            "[CV] END .................................C=4.0, gamma=0.034; total time=  10.2s\n",
            "[CV] END .................................C=4.0, gamma=0.034; total time=  10.0s\n",
            "[CV] END .................................C=4.0, gamma=0.034; total time=  10.0s\n",
            "[CV] END .................................C=4.0, gamma=0.067; total time=  10.2s\n",
            "[CV] END .................................C=4.0, gamma=0.067; total time=  10.4s\n",
            "[CV] END .................................C=4.0, gamma=0.067; total time=  10.2s\n",
            "[CV] END ...................................C=4.0, gamma=0.1; total time=  10.6s\n",
            "[CV] END ...................................C=4.0, gamma=0.1; total time=  10.5s\n",
            "[CV] END ...................................C=4.0, gamma=0.1; total time=  10.5s\n",
            "[CV] END .................................C=7.0, gamma=0.001; total time=   9.9s\n",
            "[CV] END .................................C=7.0, gamma=0.001; total time=   9.8s\n",
            "[CV] END .................................C=7.0, gamma=0.001; total time=   9.8s\n",
            "[CV] END .................................C=7.0, gamma=0.034; total time=  10.5s\n",
            "[CV] END .................................C=7.0, gamma=0.034; total time=  10.7s\n",
            "[CV] END .................................C=7.0, gamma=0.034; total time=  10.4s\n",
            "[CV] END .................................C=7.0, gamma=0.067; total time=  11.0s\n",
            "[CV] END .................................C=7.0, gamma=0.067; total time=  11.0s\n",
            "[CV] END .................................C=7.0, gamma=0.067; total time=  11.0s\n",
            "[CV] END ...................................C=7.0, gamma=0.1; total time=  11.4s\n",
            "[CV] END ...................................C=7.0, gamma=0.1; total time=  11.6s\n",
            "[CV] END ...................................C=7.0, gamma=0.1; total time=  11.7s\n",
            "[CV] END ................................C=10.0, gamma=0.001; total time=   9.9s\n",
            "[CV] END ................................C=10.0, gamma=0.001; total time=   9.8s\n",
            "[CV] END ................................C=10.0, gamma=0.001; total time=   9.8s\n",
            "[CV] END ................................C=10.0, gamma=0.034; total time=  11.0s\n",
            "[CV] END ................................C=10.0, gamma=0.034; total time=  11.1s\n",
            "[CV] END ................................C=10.0, gamma=0.034; total time=  11.2s\n",
            "[CV] END ................................C=10.0, gamma=0.067; total time=  11.9s\n",
            "[CV] END ................................C=10.0, gamma=0.067; total time=  11.9s\n",
            "[CV] END ................................C=10.0, gamma=0.067; total time=  12.0s\n",
            "[CV] END ..................................C=10.0, gamma=0.1; total time=  13.5s\n",
            "[CV] END ..................................C=10.0, gamma=0.1; total time=  12.7s\n",
            "[CV] END ..................................C=10.0, gamma=0.1; total time=  12.7s\n"
          ]
        },
        {
          "output_type": "execute_result",
          "data": {
            "text/plain": [
              "GridSearchCV(cv=3, estimator=SVR(),\n",
              "             param_grid={'C': array([ 1.,  4.,  7., 10.]),\n",
              "                         'gamma': array([0.001, 0.034, 0.067, 0.1  ])},\n",
              "             verbose=2)"
            ]
          },
          "metadata": {},
          "execution_count": 10
        }
      ]
    },
    {
      "cell_type": "markdown",
      "source": [
        "### Test tuned model"
      ],
      "metadata": {
        "id": "yacvEvzTqxgS"
      }
    },
    {
      "cell_type": "code",
      "source": [
        "gridsearch.best_estimator_"
      ],
      "metadata": {
        "colab": {
          "base_uri": "https://localhost:8080/"
        },
        "id": "sUIPqQL7ltYp",
        "outputId": "b7d3ea45-813f-44ff-ae23-83c500fb997e"
      },
      "execution_count": 11,
      "outputs": [
        {
          "output_type": "execute_result",
          "data": {
            "text/plain": [
              "SVR(C=10.0, gamma=0.1)"
            ]
          },
          "metadata": {},
          "execution_count": 11
        }
      ]
    },
    {
      "cell_type": "code",
      "source": [
        "y_pred = gridsearch.best_estimator_.predict(X_test_scaled)"
      ],
      "metadata": {
        "id": "y7IikxazkYX0"
      },
      "execution_count": 12,
      "outputs": []
    },
    {
      "cell_type": "code",
      "source": [
        "mse = mean_squared_error(y_test, y_pred)\n",
        "sqrt(mse)"
      ],
      "metadata": {
        "colab": {
          "base_uri": "https://localhost:8080/"
        },
        "id": "MQ6qw_q7kf8K",
        "outputId": "17da7d93-8b77-4eed-cadb-56d94e6575c4"
      },
      "execution_count": 13,
      "outputs": [
        {
          "output_type": "execute_result",
          "data": {
            "text/plain": [
              "0.5917040732347578"
            ]
          },
          "metadata": {},
          "execution_count": 13
        }
      ]
    }
  ]
}